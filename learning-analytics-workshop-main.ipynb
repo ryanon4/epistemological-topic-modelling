{
 "cells": [
  {
   "cell_type": "code",
   "execution_count": 5,
   "id": "1ccde2f2",
   "metadata": {},
   "outputs": [],
   "source": [
    "import pandas as pd\n",
    "from top2vec import Top2Vec\n",
    "import umap\n",
    "import hdbscan\n",
    "from functions import scatter_plot"
   ]
  },
  {
   "cell_type": "code",
   "execution_count": 6,
   "id": "234acf7f",
   "metadata": {},
   "outputs": [],
   "source": [
    "# Load your data in\n",
    "data = pd.read_csv(\"all_abstracts.tsv\", sep=\"\\t\")"
   ]
  },
  {
   "cell_type": "code",
   "execution_count": 7,
   "id": "732fb029",
   "metadata": {},
   "outputs": [
    {
     "name": "stdout",
     "output_type": "stream",
     "text": [
      "TOTAL RECORDS:3898\n"
     ]
    }
   ],
   "source": [
    "data[\"pubdate\"] = data[\"pubdate\"].astype(str).str[0:4]\n",
    "data = data[pd.to_numeric(data[\"pubdate\"], errors = \"coerce\").notnull()]\n",
    "data = data.dropna(subset=[\"pubdate\"])\n",
    "data[\"pubdate\"] = data[\"pubdate\"].astype(float)\n",
    "data = data.dropna(subset=[\"pubdate\"])\n",
    "data = data.sort_values(\"pubdate\")\n",
    "data = data.reset_index()\n",
    "print(\"TOTAL RECORDS:\" + str(len(data)))"
   ]
  },
  {
   "cell_type": "code",
   "execution_count": 8,
   "id": "c2905e4b",
   "metadata": {},
   "outputs": [],
   "source": [
    "documents = data[\"combined\"].tolist()"
   ]
  },
  {
   "cell_type": "code",
   "execution_count": null,
   "id": "6371a6c8",
   "metadata": {},
   "outputs": [],
   "source": [
    "# Train top2vec over our documents, you can specify the speed of learning with the speed parameter\n",
    "# You can also assign the number of cores to use, Top2Vec will not use gpu so use this wisely!\n",
    "model = Top2Vec(documents,speed=\"fast-learn\", workers=8)\n",
    "# Once complete, save your model somewhere!\n",
    "# If we want to load the model again, we can just use the following:\n",
    "# model = Top2Vec.load(\"models/top2vec_d2v\")\n",
    "model.save(\"models/top2vec_d2v\")"
   ]
  },
  {
   "cell_type": "code",
   "execution_count": null,
   "id": "b9fc9b28",
   "metadata": {},
   "outputs": [],
   "source": [
    "print(\"Number of Topics Identified:\" + str(model.get_num_topics()))"
   ]
  },
  {
   "cell_type": "code",
   "execution_count": null,
   "id": "3c1e18b8",
   "metadata": {},
   "outputs": [],
   "source": [
    "# Top2Vec"
   ]
  }
 ],
 "metadata": {
  "kernelspec": {
   "display_name": "Python 3",
   "language": "python",
   "name": "python3"
  },
  "language_info": {
   "codemirror_mode": {
    "name": "ipython",
    "version": 3
   },
   "file_extension": ".py",
   "mimetype": "text/x-python",
   "name": "python",
   "nbconvert_exporter": "python",
   "pygments_lexer": "ipython3",
   "version": "3.7.6"
  }
 },
 "nbformat": 4,
 "nbformat_minor": 5
}
