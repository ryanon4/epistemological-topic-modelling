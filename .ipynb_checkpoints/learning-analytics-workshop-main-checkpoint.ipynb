{
 "cells": [
  {
   "cell_type": "code",
   "execution_count": 4,
   "id": "f8a13cb6",
   "metadata": {},
   "outputs": [],
   "source": [
    "import pandas as pd\n",
    "from top2vec import Top2Vec\n",
    "import umap\n",
    "import hdbscan\n",
    "from functions import scatter_plot"
   ]
  },
  {
   "cell_type": "code",
   "execution_count": 3,
   "id": "fe0a1769",
   "metadata": {},
   "outputs": [],
   "source": [
    "# Load your data in\n",
    "data = pd.read_csv(\"all_abstracts.tsv\", sep=\"\\t\")"
   ]
  },
  {
   "cell_type": "code",
   "execution_count": null,
   "id": "40b8cd24",
   "metadata": {},
   "outputs": [],
   "source": [
    "data[\"pubdate\"] = data[\"pubdate\"].astype(str).str[0:4]\n",
    "data = data[pd.to_numeric(data[\"pubdate\"], errors = \"coerce\").notnull()]\n",
    "data = data.dropna(subset=[\"pubdate\"])\n",
    "data[\"pubdate\"] = data[\"pubdate\"].astype(float)\n",
    "data = data.dropna(subset=[\"pubdate\"])\n",
    "data = data.sort_values(\"pubdate\")\n",
    "data = data.reset_index()\n",
    "print(\"TOTAL RECORDS:\" + str(len(data)))"
   ]
  },
  {
   "cell_type": "code",
   "execution_count": null,
   "id": "88aa4598",
   "metadata": {},
   "outputs": [],
   "source": [
    "documents = data[\"combined\"].tolist()"
   ]
  },
  {
   "cell_type": "code",
   "execution_count": null,
   "id": "5a91251e",
   "metadata": {},
   "outputs": [],
   "source": [
    "# Train top2vec over our documents, you can specify the speed of learning with the speed parameter\n",
    "# You can also assign the number of cores to use, Top2Vec will not use gpu so use this wisely!\n",
    "model = Top2Vec(documents,speed=\"fast-learn\", workers=8)\n",
    "# Once complete, save your model somewhere!\n",
    "model.save(\"models/top2vec_d2v\")"
   ]
  },
  {
   "cell_type": "code",
   "execution_count": null,
   "id": "1daaae76",
   "metadata": {},
   "outputs": [],
   "source": [
    "print(\"Number of Topics Identified:\" + str(model.get_num_topics()))"
   ]
  },
  {
   "cell_type": "code",
   "execution_count": null,
   "id": "b70850e6",
   "metadata": {},
   "outputs": [],
   "source": [
    "# Top2Vec"
   ]
  }
 ],
 "metadata": {
  "kernelspec": {
   "display_name": "Python 3",
   "language": "python",
   "name": "python3"
  },
  "language_info": {
   "codemirror_mode": {
    "name": "ipython",
    "version": 3
   },
   "file_extension": ".py",
   "mimetype": "text/x-python",
   "name": "python",
   "nbconvert_exporter": "python",
   "pygments_lexer": "ipython3",
   "version": "3.7.6"
  }
 },
 "nbformat": 4,
 "nbformat_minor": 5
}
